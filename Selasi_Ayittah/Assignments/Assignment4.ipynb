{
 "cells": [
  {
   "cell_type": "code",
   "execution_count": 1,
   "id": "a0bdd1fc",
   "metadata": {},
   "outputs": [],
   "source": [
    "import pandas as pd\n",
    "import numpy as np"
   ]
  },
  {
   "cell_type": "code",
   "execution_count": 5,
   "id": "2a831180",
   "metadata": {},
   "outputs": [],
   "source": [
    "data=pd.read_spss(\"1ResearchProjectData.sav\")"
   ]
  },
  {
   "cell_type": "code",
   "execution_count": 6,
   "id": "339a448e",
   "metadata": {},
   "outputs": [
    {
     "data": {
      "text/html": [
       "<div>\n",
       "<style scoped>\n",
       "    .dataframe tbody tr th:only-of-type {\n",
       "        vertical-align: middle;\n",
       "    }\n",
       "\n",
       "    .dataframe tbody tr th {\n",
       "        vertical-align: top;\n",
       "    }\n",
       "\n",
       "    .dataframe thead th {\n",
       "        text-align: right;\n",
       "    }\n",
       "</style>\n",
       "<table border=\"1\" class=\"dataframe\">\n",
       "  <thead>\n",
       "    <tr style=\"text-align: right;\">\n",
       "      <th></th>\n",
       "      <th>Student</th>\n",
       "      <th>Teacher</th>\n",
       "      <th>Gender</th>\n",
       "      <th>Ethnic</th>\n",
       "      <th>Freeredu</th>\n",
       "      <th>Score</th>\n",
       "      <th>wesson</th>\n",
       "    </tr>\n",
       "  </thead>\n",
       "  <tbody>\n",
       "    <tr>\n",
       "      <th>0</th>\n",
       "      <td>1.0</td>\n",
       "      <td>Ruger</td>\n",
       "      <td>Female</td>\n",
       "      <td>Asian</td>\n",
       "      <td>Free lunch</td>\n",
       "      <td>76.0</td>\n",
       "      <td>Ruger_Smith</td>\n",
       "    </tr>\n",
       "    <tr>\n",
       "      <th>1</th>\n",
       "      <td>2.0</td>\n",
       "      <td>Ruger</td>\n",
       "      <td>Female</td>\n",
       "      <td>Hispanic</td>\n",
       "      <td>Paid lunch</td>\n",
       "      <td>56.0</td>\n",
       "      <td>Ruger_Smith</td>\n",
       "    </tr>\n",
       "    <tr>\n",
       "      <th>2</th>\n",
       "      <td>3.0</td>\n",
       "      <td>Ruger</td>\n",
       "      <td>Female</td>\n",
       "      <td>African-American</td>\n",
       "      <td>Free lunch</td>\n",
       "      <td>34.0</td>\n",
       "      <td>Ruger_Smith</td>\n",
       "    </tr>\n",
       "    <tr>\n",
       "      <th>3</th>\n",
       "      <td>4.0</td>\n",
       "      <td>Ruger</td>\n",
       "      <td>Female</td>\n",
       "      <td>Asian</td>\n",
       "      <td>Paid lunch</td>\n",
       "      <td>59.0</td>\n",
       "      <td>Ruger_Smith</td>\n",
       "    </tr>\n",
       "    <tr>\n",
       "      <th>4</th>\n",
       "      <td>5.0</td>\n",
       "      <td>Ruger</td>\n",
       "      <td>Male</td>\n",
       "      <td>Hispanic</td>\n",
       "      <td>Free lunch</td>\n",
       "      <td>73.0</td>\n",
       "      <td>Ruger_Smith</td>\n",
       "    </tr>\n",
       "  </tbody>\n",
       "</table>\n",
       "</div>"
      ],
      "text/plain": [
       "   Student Teacher  Gender            Ethnic    Freeredu  Score       wesson\n",
       "0      1.0   Ruger  Female             Asian  Free lunch   76.0  Ruger_Smith\n",
       "1      2.0   Ruger  Female          Hispanic  Paid lunch   56.0  Ruger_Smith\n",
       "2      3.0   Ruger  Female  African-American  Free lunch   34.0  Ruger_Smith\n",
       "3      4.0   Ruger  Female             Asian  Paid lunch   59.0  Ruger_Smith\n",
       "4      5.0   Ruger    Male          Hispanic  Free lunch   73.0  Ruger_Smith"
      ]
     },
     "execution_count": 6,
     "metadata": {},
     "output_type": "execute_result"
    }
   ],
   "source": [
    "data.head()"
   ]
  },
  {
   "cell_type": "code",
   "execution_count": 7,
   "id": "d8e56b88",
   "metadata": {},
   "outputs": [
    {
     "name": "stdout",
     "output_type": "stream",
     "text": [
      "<class 'pandas.core.frame.DataFrame'>\n",
      "RangeIndex: 217 entries, 0 to 216\n",
      "Data columns (total 7 columns):\n",
      " #   Column    Non-Null Count  Dtype   \n",
      "---  ------    --------------  -----   \n",
      " 0   Student   216 non-null    float64 \n",
      " 1   Teacher   216 non-null    category\n",
      " 2   Gender    216 non-null    category\n",
      " 3   Ethnic    216 non-null    category\n",
      " 4   Freeredu  216 non-null    category\n",
      " 5   Score     216 non-null    float64 \n",
      " 6   wesson    217 non-null    category\n",
      "dtypes: category(5), float64(2)\n",
      "memory usage: 5.3 KB\n"
     ]
    }
   ],
   "source": [
    "data.info()"
   ]
  },
  {
   "cell_type": "code",
   "execution_count": 10,
   "id": "92db7dd2",
   "metadata": {},
   "outputs": [
    {
     "data": {
      "text/html": [
       "<div>\n",
       "<style scoped>\n",
       "    .dataframe tbody tr th:only-of-type {\n",
       "        vertical-align: middle;\n",
       "    }\n",
       "\n",
       "    .dataframe tbody tr th {\n",
       "        vertical-align: top;\n",
       "    }\n",
       "\n",
       "    .dataframe thead th {\n",
       "        text-align: right;\n",
       "    }\n",
       "</style>\n",
       "<table border=\"1\" class=\"dataframe\">\n",
       "  <thead>\n",
       "    <tr style=\"text-align: right;\">\n",
       "      <th></th>\n",
       "      <th>Student</th>\n",
       "      <th>Score</th>\n",
       "    </tr>\n",
       "  </thead>\n",
       "  <tbody>\n",
       "    <tr>\n",
       "      <th>count</th>\n",
       "      <td>216.000</td>\n",
       "      <td>216.000000</td>\n",
       "    </tr>\n",
       "    <tr>\n",
       "      <th>mean</th>\n",
       "      <td>108.500</td>\n",
       "      <td>65.273148</td>\n",
       "    </tr>\n",
       "    <tr>\n",
       "      <th>std</th>\n",
       "      <td>62.498</td>\n",
       "      <td>16.361453</td>\n",
       "    </tr>\n",
       "    <tr>\n",
       "      <th>min</th>\n",
       "      <td>1.000</td>\n",
       "      <td>30.000000</td>\n",
       "    </tr>\n",
       "    <tr>\n",
       "      <th>25%</th>\n",
       "      <td>54.750</td>\n",
       "      <td>53.000000</td>\n",
       "    </tr>\n",
       "    <tr>\n",
       "      <th>50%</th>\n",
       "      <td>108.500</td>\n",
       "      <td>65.000000</td>\n",
       "    </tr>\n",
       "    <tr>\n",
       "      <th>75%</th>\n",
       "      <td>162.250</td>\n",
       "      <td>79.000000</td>\n",
       "    </tr>\n",
       "    <tr>\n",
       "      <th>max</th>\n",
       "      <td>216.000</td>\n",
       "      <td>95.000000</td>\n",
       "    </tr>\n",
       "  </tbody>\n",
       "</table>\n",
       "</div>"
      ],
      "text/plain": [
       "       Student       Score\n",
       "count  216.000  216.000000\n",
       "mean   108.500   65.273148\n",
       "std     62.498   16.361453\n",
       "min      1.000   30.000000\n",
       "25%     54.750   53.000000\n",
       "50%    108.500   65.000000\n",
       "75%    162.250   79.000000\n",
       "max    216.000   95.000000"
      ]
     },
     "execution_count": 10,
     "metadata": {},
     "output_type": "execute_result"
    }
   ],
   "source": [
    "data.describe()"
   ]
  },
  {
   "cell_type": "code",
   "execution_count": 26,
   "id": "0d57ffca",
   "metadata": {},
   "outputs": [
    {
     "data": {
      "text/plain": [
       "Student     1\n",
       "Teacher     1\n",
       "Gender      1\n",
       "Ethnic      1\n",
       "Freeredu    1\n",
       "Score       1\n",
       "wesson      0\n",
       "dtype: int64"
      ]
     },
     "execution_count": 26,
     "metadata": {},
     "output_type": "execute_result"
    }
   ],
   "source": [
    "data.isnull().sum()"
   ]
  },
  {
   "cell_type": "code",
   "execution_count": 27,
   "id": "d014ea53",
   "metadata": {},
   "outputs": [
    {
     "data": {
      "text/plain": [
       "Student     1\n",
       "Teacher     1\n",
       "Gender      1\n",
       "Ethnic      1\n",
       "Freeredu    1\n",
       "Score       1\n",
       "wesson      0\n",
       "dtype: int64"
      ]
     },
     "execution_count": 27,
     "metadata": {},
     "output_type": "execute_result"
    }
   ],
   "source": [
    "data.isna().sum()"
   ]
  },
  {
   "cell_type": "code",
   "execution_count": 28,
   "id": "63bc49e8",
   "metadata": {},
   "outputs": [
    {
     "data": {
      "text/plain": [
       "Paid lunch    112\n",
       "Free lunch    104\n",
       "Name: Freeredu, dtype: int64"
      ]
     },
     "execution_count": 28,
     "metadata": {},
     "output_type": "execute_result"
    }
   ],
   "source": [
    "data[\"Freeredu\"].value_counts()"
   ]
  },
  {
   "cell_type": "code",
   "execution_count": 16,
   "id": "bd4e2d88",
   "metadata": {},
   "outputs": [
    {
     "data": {
      "text/plain": [
       "Male      120\n",
       "Female     96\n",
       "Name: Gender, dtype: int64"
      ]
     },
     "execution_count": 16,
     "metadata": {},
     "output_type": "execute_result"
    }
   ],
   "source": [
    "data[\"Gender\"].value_counts()"
   ]
  },
  {
   "cell_type": "code",
   "execution_count": 17,
   "id": "986ff594",
   "metadata": {},
   "outputs": [
    {
     "data": {
      "text/plain": [
       "['Asian', 'Hispanic', 'African-American', 'Caucasian', NaN]\n",
       "Categories (4, object): ['Asian', 'Hispanic', 'African-American', 'Caucasian']"
      ]
     },
     "execution_count": 17,
     "metadata": {},
     "output_type": "execute_result"
    }
   ],
   "source": [
    "data[\"Ethnic\"].unique()"
   ]
  },
  {
   "cell_type": "code",
   "execution_count": 18,
   "id": "065b8431",
   "metadata": {},
   "outputs": [
    {
     "data": {
      "text/plain": [
       "['Ruger', 'Smith', 'Wesson', NaN]\n",
       "Categories (3, object): ['Ruger', 'Smith', 'Wesson']"
      ]
     },
     "execution_count": 18,
     "metadata": {},
     "output_type": "execute_result"
    }
   ],
   "source": [
    "data[\"Teacher\"].unique()"
   ]
  },
  {
   "cell_type": "code",
   "execution_count": 20,
   "id": "a53b0031",
   "metadata": {},
   "outputs": [
    {
     "data": {
      "text/plain": [
       "['Ruger_Smith', 'Wesson']\n",
       "Categories (2, object): ['Ruger_Smith', 'Wesson']"
      ]
     },
     "execution_count": 20,
     "metadata": {},
     "output_type": "execute_result"
    }
   ],
   "source": [
    "data[\"wesson\"].unique()"
   ]
  },
  {
   "cell_type": "code",
   "execution_count": 23,
   "id": "61b5aa87",
   "metadata": {},
   "outputs": [
    {
     "data": {
      "text/plain": [
       "Teacher\n",
       "Ruger     3924.0\n",
       "Smith     4803.0\n",
       "Wesson    5372.0\n",
       "Name: Score, dtype: float64"
      ]
     },
     "execution_count": 23,
     "metadata": {},
     "output_type": "execute_result"
    }
   ],
   "source": [
    "data.groupby(\"Teacher\").Score.sum()"
   ]
  },
  {
   "cell_type": "code",
   "execution_count": 24,
   "id": "c9cb0e1d",
   "metadata": {},
   "outputs": [
    {
     "data": {
      "text/plain": [
       "Ethnic\n",
       "African-American    3444.0\n",
       "Asian               3482.0\n",
       "Caucasian           2895.0\n",
       "Hispanic            4278.0\n",
       "Name: Score, dtype: float64"
      ]
     },
     "execution_count": 24,
     "metadata": {},
     "output_type": "execute_result"
    }
   ],
   "source": [
    "data.groupby(\"Ethnic\").Score.sum()"
   ]
  },
  {
   "cell_type": "code",
   "execution_count": null,
   "id": "86942472",
   "metadata": {},
   "outputs": [],
   "source": []
  }
 ],
 "metadata": {
  "kernelspec": {
   "display_name": "Python 3",
   "language": "python",
   "name": "python3"
  },
  "language_info": {
   "codemirror_mode": {
    "name": "ipython",
    "version": 3
   },
   "file_extension": ".py",
   "mimetype": "text/x-python",
   "name": "python",
   "nbconvert_exporter": "python",
   "pygments_lexer": "ipython3",
   "version": "3.8.8"
  }
 },
 "nbformat": 4,
 "nbformat_minor": 5
}
