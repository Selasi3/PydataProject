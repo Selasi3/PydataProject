{
 "cells": [
  {
   "cell_type": "code",
   "execution_count": 1,
   "id": "049608f8",
   "metadata": {},
   "outputs": [],
   "source": [
    "from selenium import webdriver"
   ]
  },
  {
   "cell_type": "code",
   "execution_count": 2,
   "id": "44ceef6f",
   "metadata": {},
   "outputs": [],
   "source": [
    "url = \"https://www.jumia.com.gh/catalog/?q=laptops\""
   ]
  },
  {
   "cell_type": "code",
   "execution_count": 3,
   "id": "14d4b208",
   "metadata": {},
   "outputs": [],
   "source": [
    "driver = webdriver.Chrome()"
   ]
  },
  {
   "cell_type": "code",
   "execution_count": 4,
   "id": "ca679d85",
   "metadata": {},
   "outputs": [],
   "source": [
    "driver.implicitly_wait(10)\n",
    "driver.get(url)"
   ]
  },
  {
   "cell_type": "code",
   "execution_count": 5,
   "id": "63ac79ec",
   "metadata": {},
   "outputs": [
    {
     "name": "stderr",
     "output_type": "stream",
     "text": [
      "/tmp/ipykernel_4914/1250577486.py:1: DeprecationWarning: find_elements_by_xpath is deprecated. Please use find_elements(by=By.XPATH, value=xpath) instead\n",
      "  laptop_names = [names.text for names in driver.find_elements_by_xpath(\"//h3[@class='name']\")]\n"
     ]
    },
    {
     "name": "stdout",
     "output_type": "stream",
     "text": [
      "['Hp Laptop 15.6” - Intel Celeron Core 2 Duo - 4G - 500GB HDD - Windows 10 - Silver', 'Lenovo V14-IGL -14.0″ - Intel N4020 - 4GB DDR4 RAM - 1TB HDD - Grey', 'Hp Laptop - Intel Celeron Core 2 Duo - 4G RAM - 500GB HDD - 15.6” - Windows10 - Silver', 'Lenovo IdeaPad 1 11IGL05 11.6\" - 4GB RAM - 128GB SSD - Intel N4020 Win10 - Platinum Grey', 'Apple 2020 MacBook Pro - 512GB SSD 8GB RAM -13.3 -Space-Gray', 'Lenovo Thinkpad X201 - 12\" Intel Core i5 - 4G RAM - 500GB - Win 10 Pro. - Black', \"Hp 15 Notebook Laptop -15.6'' - Intel® Celeron® 500GB HDD - 4GB RAM - Windows 10 - Black\", 'Hp Notebook 15-da2937nia - 15.6\" - 10th Gen Core i7-10510U - 8GB RAM - 1TB HDD - Windows 10 - Black', 'Lenovo Ideapad S145-15IGM (81MX) - Intel Celeron N4000- 1TB HDD - 4GB RAM -15.6\" - Windows 10 - Black', \"Hp Laptop 14 - cf2187nia 10th Generation Intel Core i3 - 8GB RAM - 1TB HDD - 14.0'' LED Screen - Black\", 'Lenovo V14-IGL - Intel Celeron N4020- 1TB HDD - 4GB RAM - 14\" - Windows 10 - Iron Gray', \"Hp Laptop 15-dw1213nia -15.6'' - Intel Celeron N4020 - 500GB HDD - 4GB RAM - Windows 10 - Black\", 'Lenovo IdeaPad 1 11IGL05 11.6\" - 4GB RAM - 128GB SSD - Intel Celeron N4020 Win10 - Platinum Grey', 'Hp 15T-ED000 x360 -15\" - Core i7-1065G7+512 SSD+16GB RAM+4GB NVIDIA MX330 - Windows 10 -Silver', '10.1 inch Netbook PC - 1GBRAM - 8GB HDD - Android 5.1 ATM7059 - Black', 'Hp ProBook 440 G8 - 14\" - Intel Core i7-1165G7 - 512SSD - 16GB RAM - Windows 10 -Silver', 'Folding Laptop Table Computer Desk For Student / Bedside - Black', 'Folding Laptop Table Computer Desk For Student / Bedside - Beige', 'Hp 15-da0021ds Intel Pentium Gold 5405U Laptop - TOUCH SCREEN 8GB RAM - 256GB SSD - Win 10 - BLUE', 'Hp Pavilion Gaming -Core i5-10300H -1TB DRIVE - 256SSD- 8GB RAM - 4GB Nvidia- Black', 'Hp Notebook 15 15-DY2131WM - Core i3-1115G4- 10th Gen- 8GB Ram-256GB SSD- Windows 10 - Silver', 'TDD-10.1 Netbook PC - 10.1\" - Dual-Core - 1GB RAM - Android 6.0 - White', '360o Rotating Bluetooth 7 s Backlit Aluminum Keyboard For iPad 9.7\" 2018/iPad 9.7\" 2017/iPad Air/Air 2/Pro 9.7\"-Blue (blue)', 'Hp Pavilion 15-er0125od x360 - Intel Core i5 - 8GB RAM - 256GB SSD Touchscreen - Silver', 'DELL Vostro 3000 Series - 11th Gen Intel Core i3-1115G4 - 1TB HDD - 8GB RAM - 15.6\" - Windows 10 - Gray', 'DELL Latitude E6320 13 inches Laptop - Intel Core i5 2.50 GHz - 4GB DDR3 - 500GB HDD - Windows 7 Pro - Black + Free Laptop Bag', 'Lenovo V15 Intel Core i3 - 10th Generation 15.6\" - 4 GB RAM -1 TB HDD - Win 10 - Iron Gray', 'Lenovo V14-IGL - Intel Celeron N4020- 1TB HDD - 4GB RAM - 14\" - Windows 11 Pro - Iron Gray', 'Hp 15-dw1081wm Intel Pentium Gold 6405U Laptop - 4GB DDR4 RAM - 500GB HDD - Windows 10 - Scarlet Red', 'N1001 Netbook PC - 10.1\" - Dual-Core - 1GB RAM - Android 6.0 - Pink', 'Hp ProBook 650 G1 - 15 Inches 4th Gen Laptop - Intel Core i5 - 4GB RAM - 500GB HDD - Win 10 - Black', '10.1 inch Netbook PC -1GBRAM - 8GBROM - Android 6.0 - Black', 'Lenovo V15 Intel Core i3 - 10th Generation 15.6\" - 4 GB RAM -1 TB HDD - Win 10 Pro - Iron Gray', 'Hp Pavilion 15-eg0073cl 15.6″ Touchscreen Laptop – 11th Gen Intel Core i7-1165G7 4.7 GHz -16GB RAM – 512GB SSD – Backlit Keyboard - Fog Blue', 'Apple MacBook Pro M1- 256GB-HDD-8GB-RAM-13.3-Space-Gray', 'Hp Pavilion 14-DQ1043CL - Intel Core i3-1005G1, 8GB, 256GB SSD, Win10, Backlit Keyboard – Silver', 'Hp 840 G7 Elitebook - 14\"- i5-10310U - 10th Gen- 512SSD - 8GB RAM - Windows 10 - Silver', 'Folding Laptop Table Computer Desk For Student / Bedside - pink', 'Foldable Non-slip Laptop N Stand Portable Thin PC Bracket Ph', 'Hp 15-DY1091WM Laptop – Core™ i3 1.20GHz – 10th Gen – 8GB – 256GB – Win10 – Silver', 'DELL Big Pin Charger - 19.5V~6.7A Black', 'Biaowang Laptop Backpack Bag - 18.5 Inches - Black', 'Laptop Sleeve Bag, For 15.6 inch - Black', 'Lenovo Thinkpad X201 - 12\" Intel Core i5 - 4G RAM - 500GB - Win 10 Pro. - Black', 'Jlt Resources Portable Folding Laptop Stand Desk - Black', 'Jiesipote 18\" Travel Laptop Backpack With USB Charging/Headphone Ports - Black', '3 Pieces Multifunctional Business School Laptop Backpack- Black', 'Plush 3 in 1 Work/Business/School Backpack - Grey/Black']\n"
     ]
    }
   ],
   "source": [
    "laptop_names = [names.text for names in driver.find_elements_by_xpath(\"//h3[@class='name']\")]\n",
    "# laptop_names = [names.text for names in driver.find_elements(by=By.XPATH, value=\"//h3[@class='name']\")]\n",
    "print(laptop_names)"
   ]
  },
  {
   "cell_type": "code",
   "execution_count": 15,
   "id": "1225f6bb",
   "metadata": {},
   "outputs": [
    {
     "name": "stderr",
     "output_type": "stream",
     "text": [
      "/tmp/ipykernel_4914/429930981.py:1: DeprecationWarning: find_elements_by_xpath is deprecated. Please use find_elements(by=By.XPATH, value=xpath) instead\n",
      "  laptop_prices = [prices.text for prices in driver.find_elements_by_xpath(\"//div[@class='prc']\")]\n"
     ]
    },
    {
     "name": "stdout",
     "output_type": "stream",
     "text": [
      "['GH₵ 1,622.40', 'GH₵ 2,489.00', 'GH₵ 1,656.00', 'GH₵ 1,889.00', 'GH₵ 8,900.00', 'GH₵ 1,814.40', 'GH₵ 2,589.00', 'GH₵ 4,750.00', 'GH₵ 2,250.00', 'GH₵ 3,250.00', 'GH₵ 2,490.00', 'GH₵ 2,435.00', 'GH₵ 2,294.00', 'GH₵ 9,800.00', 'GH₵ 750.00', 'GH₵ 8,900.00', 'GH₵ 60.00', 'GH₵ 60.00', 'GH₵ 2,950.00', 'GH₵ 5,800.00', 'GH₵ 3,700.00', 'GH₵ 855.00', 'GH₵ 499.00', 'GH₵ 4,850.00', 'GH₵ 3,789.00', 'GH₵ 2,120.00', 'GH₵ 2,950.00', 'GH₵ 2,490.00', 'GH₵ 2,698.00', 'GH₵ 719.00', 'GH₵ 2,710.00', 'GH₵ 779.00', 'GH₵ 2,950.00', 'GH₵ 6,990.00', 'GH₵ 9,000.00', 'GH₵ 3,399.00', 'GH₵ 5,000.00', 'GH₵ 60.00', 'GH₵ 129.00', 'GH₵ 3,399.00', 'GH₵ 100.00', 'GH₵ 85.00', 'GH₵ 60.00', 'GH₵ 1,814.40', 'GH₵ 190.00', 'GH₵ 119.93', 'GH₵ 51.00', 'GH₵ 55.00']\n"
     ]
    }
   ],
   "source": [
    "laptop_prices = [prices.text for prices in driver.find_elements_by_xpath(\"//div[@class='prc']\")]\n",
    "print(laptop_prices)"
   ]
  },
  {
   "cell_type": "code",
   "execution_count": 26,
   "id": "d927ccab",
   "metadata": {},
   "outputs": [
    {
     "name": "stderr",
     "output_type": "stream",
     "text": [
      "/tmp/ipykernel_4914/2338606779.py:4: DeprecationWarning: find_elements_by_xpath is deprecated. Please use find_elements(by=By.XPATH, value=xpath) instead\n",
      "  laptop_links = [links.text for links in driver.find_elements_by_xpath('//div[@class=\"-paxs row _no-g _4cl-3cm-shs\"]//a[@href]')]\n"
     ]
    },
    {
     "name": "stdout",
     "output_type": "stream",
     "text": [
      "['Hp Laptop 15.6” - Intel Celeron Core 2 Duo - 4G - 500GB HDD - Windows 10 - Silver\\nGH₵ 1,622.40\\nGH₵ 2,400.00\\n32%\\n4 out of 5\\n(1)', 'Lenovo V14-IGL -14.0″ - Intel N4020 - 4GB DDR4 RAM - 1TB HDD - Grey\\nGH₵ 2,489.00\\nGH₵ 2,760.00\\n10%\\n4 out of 5\\n(21)', 'Hp Laptop - Intel Celeron Core 2 Duo - 4G RAM - 500GB HDD - 15.6” - Windows10 - Silver\\nGH₵ 1,656.00\\nGH₵ 2,400.00\\n31%\\n1 out of 5\\n(1)', 'Lenovo IdeaPad 1 11IGL05 11.6\" - 4GB RAM - 128GB SSD - Intel N4020 Win10 - Platinum Grey\\nGH₵ 1,889.00\\nGH₵ 1,900.00\\n1%\\noffers from\\n4.5 out of 5\\n(17)\\nEligible for free next day delivery for orders above GHS 80 in Accra and Kumasi (Excluding large items)', 'Apple 2020 MacBook Pro - 512GB SSD 8GB RAM -13.3 -Space-Gray\\nGH₵ 8,900.00\\nGH₵ 9,200.00\\n3%', 'Lenovo Thinkpad X201 - 12\" Intel Core i5 - 4G RAM - 500GB - Win 10 Pro. - Black\\nGH₵ 1,814.40\\nGH₵ 2,100.00\\n14%\\n4.5 out of 5\\n(2)', \"Hp 15 Notebook Laptop -15.6'' - Intel® Celeron® 500GB HDD - 4GB RAM - Windows 10 - Black\\nGH₵ 2,589.00\\nGH₵ 2,750.00\\n6%\\n4.1 out of 5\\n(10)\", 'Hp Notebook 15-da2937nia - 15.6\" - 10th Gen Core i7-10510U - 8GB RAM - 1TB HDD - Windows 10 - Black\\nGH₵ 4,750.00\\nGH₵ 5,400.00\\n12%\\n5 out of 5\\n(3)', 'Lenovo Ideapad S145-15IGM (81MX) - Intel Celeron N4000- 1TB HDD - 4GB RAM -15.6\" - Windows 10 - Black\\nGH₵ 2,250.00\\nGH₵ 2,300.00\\n2%\\noffers from\\n4.2 out of 5\\n(18)', \"Hp Laptop 14 - cf2187nia 10th Generation Intel Core i3 - 8GB RAM - 1TB HDD - 14.0'' LED Screen - Black\\nGH₵ 3,250.00\\nGH₵ 3,650.00\\n11%\\n5 out of 5\\n(1)\", 'Lenovo V14-IGL - Intel Celeron N4020- 1TB HDD - 4GB RAM - 14\" - Windows 10 - Iron Gray\\nGH₵ 2,490.00\\nGH₵ 2,850.00\\n13%\\n4.7 out of 5\\n(3)', \"Hp Laptop 15-dw1213nia -15.6'' - Intel Celeron N4020 - 500GB HDD - 4GB RAM - Windows 10 - Black\\nGH₵ 2,435.00\\noffers from\", 'Lenovo IdeaPad 1 11IGL05 11.6\" - 4GB RAM - 128GB SSD - Intel Celeron N4020 Win10 - Platinum Grey\\nGH₵ 2,294.00\\nGH₵ 2,600.00\\n12%', 'Hp 15T-ED000 x360 -15\" - Core i7-1065G7+512 SSD+16GB RAM+4GB NVIDIA MX330 - Windows 10 -Silver\\nGH₵ 9,800.00\\nGH₵ 10,000.00\\n2%', 'Shipped from abroad\\n10.1 inch Netbook PC - 1GBRAM - 8GB HDD - Android 5.1 ATM7059 - Black\\nGH₵ 750.00\\nGH₵ 1,324.00\\n43%\\n3.5 out of 5\\n(11)', 'Hp ProBook 440 G8 - 14\" - Intel Core i7-1165G7 - 512SSD - 16GB RAM - Windows 10 -Silver\\nGH₵ 8,900.00\\nGH₵ 9,000.00\\n1%', 'Folding Laptop Table Computer Desk For Student / Bedside - Black\\nGH₵ 60.00', 'Folding Laptop Table Computer Desk For Student / Bedside - Beige\\nGH₵ 60.00', 'Hp 15-da0021ds Intel Pentium Gold 5405U Laptop - TOUCH SCREEN 8GB RAM - 256GB SSD - Win 10 - BLUE\\nGH₵ 2,950.00', 'Hp Pavilion Gaming -Core i5-10300H -1TB DRIVE - 256SSD- 8GB RAM - 4GB Nvidia- Black\\nGH₵ 5,800.00', 'Hp Notebook 15 15-DY2131WM - Core i3-1115G4- 10th Gen- 8GB Ram-256GB SSD- Windows 10 - Silver\\nGH₵ 3,700.00\\nGH₵ 4,000.00\\n8%', 'Shipped from abroad\\nTDD-10.1 Netbook PC - 10.1\" - Dual-Core - 1GB RAM - Android 6.0 - White\\nGH₵ 855.00\\nGH₵ 1,163.00\\n26%\\n2.7 out of 5\\n(3)', 'Shipped from abroad\\n360o Rotating Bluetooth 7 s Backlit Aluminum Keyboard For iPad 9.7\" 2018/iPad 9.7\" 2017/iPad Air/Air 2/Pro 9.7\"-Blue (blue)\\nGH₵ 499.00\\nGH₵ 997.00\\n50%', 'Hp Pavilion 15-er0125od x360 - Intel Core i5 - 8GB RAM - 256GB SSD Touchscreen - Silver\\nGH₵ 4,850.00\\nGH₵ 5,200.00\\n7%', 'DELL Vostro 3000 Series - 11th Gen Intel Core i3-1115G4 - 1TB HDD - 8GB RAM - 15.6\" - Windows 10 - Gray\\nGH₵ 3,789.00\\nGH₵ 4,100.00\\n8%\\n3.7 out of 5\\n(3)', 'DELL Latitude E6320 13 inches Laptop - Intel Core i5 2.50 GHz - 4GB DDR3 - 500GB HDD - Windows 7 Pro - Black + Free Laptop Bag\\nGH₵ 2,120.00\\nGH₵ 2,700.00\\n21%\\noffers from\\n5 out of 5\\n(1)', 'Lenovo V15 Intel Core i3 - 10th Generation 15.6\" - 4 GB RAM -1 TB HDD - Win 10 - Iron Gray\\nGH₵ 2,950.00\\nGH₵ 3,050.00\\n3%', 'Lenovo V14-IGL - Intel Celeron N4020- 1TB HDD - 4GB RAM - 14\" - Windows 11 Pro - Iron Gray\\nGH₵ 2,490.00\\nGH₵ 2,600.00\\n4%\\noffers from\\n5 out of 5\\n(1)', 'Hp 15-dw1081wm Intel Pentium Gold 6405U Laptop - 4GB DDR4 RAM - 500GB HDD - Windows 10 - Scarlet Red\\nGH₵ 2,698.00\\n4.5 out of 5\\n(4)', 'Shipped from abroad\\nN1001 Netbook PC - 10.1\" - Dual-Core - 1GB RAM - Android 6.0 - Pink\\nGH₵ 719.00\\nGH₵ 1,269.00\\n43%\\n3.4 out of 5\\n(9)', 'Hp ProBook 650 G1 - 15 Inches 4th Gen Laptop - Intel Core i5 - 4GB RAM - 500GB HDD - Win 10 - Black\\nGH₵ 2,710.00\\nGH₵ 3,000.00\\n10%', 'Shipped from abroad\\n10.1 inch Netbook PC -1GBRAM - 8GBROM - Android 6.0 - Black\\nGH₵ 779.00\\nGH₵ 1,038.00\\n25%', 'Lenovo V15 Intel Core i3 - 10th Generation 15.6\" - 4 GB RAM -1 TB HDD - Win 10 Pro - Iron Gray\\nGH₵ 2,950.00\\noffers from\\n5 out of 5\\n(1)', 'Hp Pavilion 15-eg0073cl 15.6″ Touchscreen Laptop – 11th Gen Intel Core i7-1165G7 4.7 GHz -16GB RAM – 512GB SSD – Backlit Keyboard - Fog Blue\\nGH₵ 6,990.00', 'Apple MacBook Pro M1- 256GB-HDD-8GB-RAM-13.3-Space-Gray\\nGH₵ 9,000.00\\nGH₵ 9,220.00\\n2%', 'Hp Pavilion 14-DQ1043CL - Intel Core i3-1005G1, 8GB, 256GB SSD, Win10, Backlit Keyboard – Silver\\nGH₵ 3,399.00\\n3.8 out of 5\\n(6)', 'Hp 840 G7 Elitebook - 14\"- i5-10310U - 10th Gen- 512SSD - 8GB RAM - Windows 10 - Silver\\nGH₵ 5,000.00\\noffers from', 'Folding Laptop Table Computer Desk For Student / Bedside - pink\\nGH₵ 60.00', 'Shipped from abroad\\nFoldable Non-slip Laptop N Stand Portable Thin PC Bracket Ph\\nGH₵ 129.00\\nGH₵ 258.00\\n50%', 'Hp 15-DY1091WM Laptop – Core™ i3 1.20GHz – 10th Gen – 8GB – 256GB – Win10 – Silver\\nGH₵ 3,399.00', 'DELL Big Pin Charger - 19.5V~6.7A Black\\nGH₵ 100.00\\nGH₵ 150.00\\n33%', 'Biaowang Laptop Backpack Bag - 18.5 Inches - Black\\nGH₵ 85.00\\nGH₵ 150.00\\n43%\\n4.4 out of 5\\n(92)', 'Laptop Sleeve Bag, For 15.6 inch - Black\\nGH₵ 60.00\\nGH₵ 80.00\\n25%\\n4.6 out of 5\\n(19)', 'Lenovo Thinkpad X201 - 12\" Intel Core i5 - 4G RAM - 500GB - Win 10 Pro. - Black\\nGH₵ 1,814.40\\nGH₵ 2,100.00\\n14%\\n4.5 out of 5\\n(2)', 'Jlt Resources Portable Folding Laptop Stand Desk - Black\\nGH₵ 190.00\\nGH₵ 257.00\\n26%\\n4.3 out of 5\\n(15)', 'Jiesipote 18\" Travel Laptop Backpack With USB Charging/Headphone Ports - Black\\nGH₵ 119.93\\nGH₵ 134.00\\n11%\\n3.3 out of 5\\n(7)\\nEligible for free next day delivery for orders above GHS 80 in Accra and Kumasi (Excluding large items)', '3 Pieces Multifunctional Business School Laptop Backpack- Black\\nGH₵ 51.00\\nGH₵ 87.00\\n41%\\n3.4 out of 5\\n(199)', 'Plush 3 in 1 Work/Business/School Backpack - Grey/Black\\nGH₵ 55.00\\nGH₵ 100.00\\n45%\\nEligible for free next day delivery for orders above GHS 80 in Accra and Kumasi (Excluding large items)']\n",
      "48\n"
     ]
    }
   ],
   "source": [
    "# laptop_links = [links.text for text in driver.find_elements_by_xpath(\"//a[@class='core']/@href[1]\")]\n",
    "# print(laptop_links)\n",
    "# print(len(laptop_names), '\\n', len(laptop_prices))\n",
    "laptop_links = [links.get_attribute(\"href\") for links in driver.find_elements_by_xpath('//div[@class=\"-paxs row _no-g _4cl-3cm-shs\"]//a[@href]')]\n",
    "print(laptop_links)\n",
    "print(len(laptop_links))"
   ]
  },
  {
   "cell_type": "code",
   "execution_count": 22,
   "id": "9bbb61d1",
   "metadata": {},
   "outputs": [
    {
     "name": "stdout",
     "output_type": "stream",
     "text": [
      "[('Hp Laptop 15.6” - Intel Celeron Core 2 Duo - 4G - 500GB HDD - Windows 10 - Silver', 'GH₵ 1,622.40', 'https://www.jumia.com.gh/hp-laptop-15.6-intel-celeron-core-2-duo-4g-500gb-hdd-windows-10-silver-33021134.html'), ('Lenovo V14-IGL -14.0″ - Intel N4020 - 4GB DDR4 RAM - 1TB HDD - Grey', 'GH₵ 2,489.00', 'https://www.jumia.com.gh/v14-igl-14.0-display-intel-n4020-processor-4gb-ddr4-ram-1tb-grey-lenovo-mpg441883.html'), ('Hp Laptop - Intel Celeron Core 2 Duo - 4G RAM - 500GB HDD - 15.6” - Windows10 - Silver', 'GH₵ 1,656.00', 'https://www.jumia.com.gh/hp-laptop-intel-celeron-core-2-duo-4g-ram-500gb-hdd-15.6-windows10-silver-17378353.html'), ('Lenovo IdeaPad 1 11IGL05 11.6\" - 4GB RAM - 128GB SSD - Intel N4020 Win10 - Platinum Grey', 'GH₵ 1,889.00', 'https://www.jumia.com.gh/ideapad-1-11igl05-11.6-4gb-ram-128gb-ssd-intel-celeron-n4020-win10-grey-lenovo-mpg450600.html'), ('Apple 2020 MacBook Pro - 512GB SSD 8GB RAM -13.3 -Space-Gray', 'GH₵ 8,900.00', 'https://www.jumia.com.gh/apple-2020-macbook-pro-512gb-ssd-8gb-ram-13.3-space-gray-37475684.html'), ('Lenovo Thinkpad X201 - 12\" Intel Core i5 - 4G RAM - 500GB - Win 10 Pro. - Black', 'GH₵ 1,814.40', 'https://www.jumia.com.gh/thinkpad-x201-12-intel-core-i5-4g-ram-320gb-win-7-pro.-black-lenovo-mpg453269.html'), (\"Hp 15 Notebook Laptop -15.6'' - Intel® Celeron® 500GB HDD - 4GB RAM - Windows 10 - Black\", 'GH₵ 2,589.00', 'https://www.jumia.com.gh/15-notebook-laptop-15.6-intelr-celeronr-500gb-hdd-4gb-ram-windows-10-black-hp-mpg439272.html'), ('Hp Notebook 15-da2937nia - 15.6\" - 10th Gen Core i7-10510U - 8GB RAM - 1TB HDD - Windows 10 - Black', 'GH₵ 4,750.00', 'https://www.jumia.com.gh/notebook-15-da2937nia-15.6-10th-gen-core-i7-10510u-8gb-ram-1tb-hdd-windows-10-black-hp-mpg444349.html'), ('Lenovo Ideapad S145-15IGM (81MX) - Intel Celeron N4000- 1TB HDD - 4GB RAM -15.6\" - Windows 10 - Black', 'GH₵ 2,250.00', 'https://www.jumia.com.gh/ideapad-s145-15igm-81mx-intel-celeron-n4000-1tb-hdd-4gb-ram-15.6-windows-10-black-lenovo-mpg441665.html'), (\"Hp Laptop 14 - cf2187nia 10th Generation Intel Core i3 - 8GB RAM - 1TB HDD - 14.0'' LED Screen - Black\", 'GH₵ 3,250.00', 'https://www.jumia.com.gh/hp-laptop-14-cf2187nia-10th-generation-intel-core-i3-8gb-ram-1tb-hdd-14.0-led-screen-black-31562448.html'), ('Lenovo V14-IGL - Intel Celeron N4020- 1TB HDD - 4GB RAM - 14\" - Windows 10 - Iron Gray', 'GH₵ 2,490.00', 'https://www.jumia.com.gh/lenovo-v14-igl-intel-celeron-n4020-1tb-hdd-4gb-ram-14-windows-10-iron-gray-33396178.html'), (\"Hp Laptop 15-dw1213nia -15.6'' - Intel Celeron N4020 - 500GB HDD - 4GB RAM - Windows 10 - Black\", 'GH₵ 2,435.00', 'https://www.jumia.com.gh/laptop-15-dw1213nia-15.6-intel-celeron-n4020-500gb-hdd-4gb-ram-windows-10-black-hp-mpg453494.html'), ('Lenovo IdeaPad 1 11IGL05 11.6\" - 4GB RAM - 128GB SSD - Intel Celeron N4020 Win10 - Platinum Grey', 'GH₵ 2,294.00', 'https://www.jumia.com.gh/lenovo-ideapad-1-11igl05-11.6-4gb-ram-128gb-ssd-intel-celeron-n4020-win10-platinum-grey-36179478.html'), ('Hp 15T-ED000 x360 -15\" - Core i7-1065G7+512 SSD+16GB RAM+4GB NVIDIA MX330 - Windows 10 -Silver', 'GH₵ 9,800.00', 'https://www.jumia.com.gh/hp-15t-ed000-x360-15-core-i7-1065g7512-ssd16gb-ram4gb-nvidia-mx330-windows-10-silver-30616503.html'), ('10.1 inch Netbook PC - 1GBRAM - 8GB HDD - Android 5.1 ATM7059 - Black', 'GH₵ 750.00', 'https://www.jumia.com.gh/generic-10.1-inch-netbook-pc-1gbram-8gb-hdd-android-5.1-atm7059-black-2125446.html'), ('Hp ProBook 440 G8 - 14\" - Intel Core i7-1165G7 - 512SSD - 16GB RAM - Windows 10 -Silver', 'GH₵ 8,900.00', 'https://www.jumia.com.gh/hp-probook-440-g8-14-intel-core-i7-1165g7-512ssd-16gb-ram-windows-10-silver-31036063.html'), ('Folding Laptop Table Computer Desk For Student / Bedside - Black', 'GH₵ 60.00', 'https://www.jumia.com.gh/generic-folding-laptop-table-computer-desk-for-student-bedside-black-44629281.html'), ('Folding Laptop Table Computer Desk For Student / Bedside - Beige', 'GH₵ 60.00', 'https://www.jumia.com.gh/generic-folding-laptop-table-computer-desk-for-student-bedside-beige-44629057.html'), ('Hp 15-da0021ds Intel Pentium Gold 5405U Laptop - TOUCH SCREEN 8GB RAM - 256GB SSD - Win 10 - BLUE', 'GH₵ 2,950.00', 'https://www.jumia.com.gh/hp-15-da0021ds-intel-pentium-gold-5405u-laptop-touch-screen-8gb-ram-256gb-ssd-win-10-blue-40427049.html'), ('Hp Pavilion Gaming -Core i5-10300H -1TB DRIVE - 256SSD- 8GB RAM - 4GB Nvidia- Black', 'GH₵ 5,800.00', 'https://www.jumia.com.gh/hp-pavilion-gaming-core-i5-10300h-1tb-drive-256ssd-8gb-ram-4gb-nvidia-black-41170409.html'), ('Hp Notebook 15 15-DY2131WM - Core i3-1115G4- 10th Gen- 8GB Ram-256GB SSD- Windows 10 - Silver', 'GH₵ 3,700.00', 'https://www.jumia.com.gh/hp-notebook-15-15-dy2131wm-core-i3-1115g4-10th-gen-8gb-ram-256gb-ssd-windows-10-silver-37691586.html'), ('TDD-10.1 Netbook PC - 10.1\" - Dual-Core - 1GB RAM - Android 6.0 - White', 'GH₵ 855.00', 'https://www.jumia.com.gh/generic-tdd-10.1-netbook-pc-10.1-dual-core-1gb-ram-android-6.0-white-2125415.html'), ('360o Rotating Bluetooth 7 s Backlit Aluminum Keyboard For iPad 9.7\" 2018/iPad 9.7\" 2017/iPad Air/Air 2/Pro 9.7\"-Blue (blue)', 'GH₵ 499.00', 'https://www.jumia.com.gh/generic-360o-rotating-bluetooth-7-s-backlit-aluminum-keyboard-for-ipad-9.7-2018ipad-9.7-2017ipad-airair-2pro-9.7-blue-blue-29830302.html'), ('Hp Pavilion 15-er0125od x360 - Intel Core i5 - 8GB RAM - 256GB SSD Touchscreen - Silver', 'GH₵ 4,850.00', 'https://www.jumia.com.gh/hp-pavilion-15-er0125od-x360-intel-core-i5-8gb-ram-256gb-ssd-touchscreen-silver-42403162.html'), ('DELL Vostro 3000 Series - 11th Gen Intel Core i3-1115G4 - 1TB HDD - 8GB RAM - 15.6\" - Windows 10 - Gray', 'GH₵ 3,789.00', 'https://www.jumia.com.gh/dell-vostro-3000-series-11th-gen-intel-core-i3-1115g4-1tb-hdd-8gb-ram-15.6-windows-10-gray-31343495.html'), ('DELL Latitude E6320 13 inches Laptop - Intel Core i5 2.50 GHz - 4GB DDR3 - 500GB HDD - Windows 7 Pro - Black + Free Laptop Bag', 'GH₵ 2,120.00', 'https://www.jumia.com.gh/latitude-e6320-13-inches-laptop-intel-core-i5-2.50-ghz-4gb-ddr3-320gb-hdd-windows-7-pro-black-dell-mpg453232.html'), ('Lenovo V15 Intel Core i3 - 10th Generation 15.6\" - 4 GB RAM -1 TB HDD - Win 10 - Iron Gray', 'GH₵ 2,950.00', 'https://www.jumia.com.gh/lenovo-v15-intel-core-i3-10th-generation-15.6-4-gb-ram-1-tb-hdd-win-10-iron-gray-43945127.html'), ('Lenovo V14-IGL - Intel Celeron N4020- 1TB HDD - 4GB RAM - 14\" - Windows 11 Pro - Iron Gray', 'GH₵ 2,490.00', 'https://www.jumia.com.gh/v14-igl-intel-celeron-n4020-1tb-hdd-4gb-ram-14-windows-11-pro-iron-gray-lenovo-mpg454943.html'), ('Hp 15-dw1081wm Intel Pentium Gold 6405U Laptop - 4GB DDR4 RAM - 500GB HDD - Windows 10 - Scarlet Red', 'GH₵ 2,698.00', 'https://www.jumia.com.gh/15-dw1081wm-intel-pentium-gold-6405u-laptop-4gb-ddr4-ram-500gb-hdd-windows-10-scarlet-red-hp-mpg441944.html'), ('N1001 Netbook PC - 10.1\" - Dual-Core - 1GB RAM - Android 6.0 - Pink', 'GH₵ 719.00', 'https://www.jumia.com.gh/generic-n1001-netbook-pc-10.1-dual-core-1gb-ram-android-6.0-pink-2121822.html'), ('Hp ProBook 650 G1 - 15 Inches 4th Gen Laptop - Intel Core i5 - 4GB RAM - 500GB HDD - Win 10 - Black', 'GH₵ 2,710.00', 'https://www.jumia.com.gh/hp-probook-650-g1-15-inches-4th-gen-laptop-intel-core-i5-4gb-ram-500gb-hdd-win-10-black-29880586.html'), ('10.1 inch Netbook PC -1GBRAM - 8GBROM - Android 6.0 - Black', 'GH₵ 779.00', 'https://www.jumia.com.gh/generic-10.1-inch-netbook-pc-1gbram-8gbrom-android-6.0-black-2125375.html'), ('Lenovo V15 Intel Core i3 - 10th Generation 15.6\" - 4 GB RAM -1 TB HDD - Win 10 Pro - Iron Gray', 'GH₵ 2,950.00', 'https://www.jumia.com.gh/v15-intel-core-i3-10th-generation-15.6-4-gb-ram-1-tb-hdd-win-11-pro-iron-gray-lenovo-mpg453449.html'), ('Hp Pavilion 15-eg0073cl 15.6″ Touchscreen Laptop – 11th Gen Intel Core i7-1165G7 4.7 GHz -16GB RAM – 512GB SSD – Backlit Keyboard - Fog Blue', 'GH₵ 6,990.00', 'https://www.jumia.com.gh/hp-pavilion-15-eg0073cl-15.6-touchscreen-laptop-11th-gen-intel-core-i7-1165g7-4.7-ghz-16gb-ram-512gb-ssd-backlit-keyboard-fog-blue-42030184.html'), ('Apple MacBook Pro M1- 256GB-HDD-8GB-RAM-13.3-Space-Gray', 'GH₵ 9,000.00', 'https://www.jumia.com.gh/macbook-pro-m1-256gb-hdd-8gb-ram-13.3-space-gray-apple-mpg453612.html'), ('Hp Pavilion 14-DQ1043CL - Intel Core i3-1005G1, 8GB, 256GB SSD, Win10, Backlit Keyboard – Silver', 'GH₵ 3,399.00', 'https://www.jumia.com.gh/pavilion-14-dq1043cl-intel-core-i3-1005g1-8gb-256gb-ssd-win10-backlit-keyboard-silver-hp-mpg442142.html'), ('Hp 840 G7 Elitebook - 14\"- i5-10310U - 10th Gen- 512SSD - 8GB RAM - Windows 10 - Silver', 'GH₵ 5,000.00', 'https://www.jumia.com.gh/840-g7-elitebook-14-i5-10310u-10th-gen-512ssd-8gb-ram-windows-10-silver-hp-mpg454931.html'), ('Folding Laptop Table Computer Desk For Student / Bedside - pink', 'GH₵ 60.00', 'https://www.jumia.com.gh/generic-folding-laptop-table-computer-desk-for-student-bedside-pink-44386184.html'), ('Foldable Non-slip Laptop N Stand Portable Thin PC Bracket Ph', 'GH₵ 129.00', 'https://www.jumia.com.gh/generic-foldable-non-slip-laptop-n-stand-portable-thin-pc-bracket-ph-37248977.html'), ('Hp 15-DY1091WM Laptop – Core™ i3 1.20GHz – 10th Gen – 8GB – 256GB – Win10 – Silver', 'GH₵ 3,399.00', 'https://www.jumia.com.gh/hp-15-dy1091wm-laptop-coretm-i3-1.20ghz-10th-gen-8gb-256gb-win10-silver-22136744.html'), ('DELL Big Pin Charger - 19.5V~6.7A Black', 'GH₵ 100.00', 'https://www.jumia.com.gh/dell-big-pin-charger-19.5v6.7a-black-22540446.html?seller_product=1'), ('Biaowang Laptop Backpack Bag - 18.5 Inches - Black', 'GH₵ 85.00', 'https://www.jumia.com.gh/biaowang-laptop-backpack-bag-18.5-inches-black-18147151.html'), ('Laptop Sleeve Bag, For 15.6 inch - Black', 'GH₵ 60.00', 'https://www.jumia.com.gh/generic-laptop-sleeve-bag-for-15.6-inch-black-19479590.html'), ('Lenovo Thinkpad X201 - 12\" Intel Core i5 - 4G RAM - 500GB - Win 10 Pro. - Black', 'GH₵ 1,814.40', 'https://www.jumia.com.gh/thinkpad-x201-12-intel-core-i5-4g-ram-320gb-win-7-pro.-black-lenovo-mpg453269.html'), ('Jlt Resources Portable Folding Laptop Stand Desk - Black', 'GH₵ 190.00', 'https://www.jumia.com.gh/jlt-resources-portable-folding-laptop-stand-desk-black-17586043.html'), ('Jiesipote 18\" Travel Laptop Backpack With USB Charging/Headphone Ports - Black', 'GH₵ 119.93', 'https://www.jumia.com.gh/jiesipote-18-travel-laptop-backpack-with-usb-chargingheadphone-ports-black-31588614.html'), ('3 Pieces Multifunctional Business School Laptop Backpack- Black', 'GH₵ 51.00', 'https://www.jumia.com.gh/generic-3-pieces-multifunctional-business-school-laptop-backpack-black-12873828.html'), ('Plush 3 in 1 Work/Business/School Backpack - Grey/Black', 'GH₵ 55.00', 'https://www.jumia.com.gh/generic-plush-3-in-1-workbusinessschool-backpack-greyblack-42369457.html')]\n",
      "48\n"
     ]
    }
   ],
   "source": [
    "names_and_prices = [(laptop_names[item], laptop_prices[item], laptop_links[item]) for item in range(0, len(laptop_names))]\n",
    "print(names_and_prices)\n",
    "print(len(names_and_prices))"
   ]
  },
  {
   "cell_type": "code",
   "execution_count": 23,
   "id": "ad3eac82",
   "metadata": {},
   "outputs": [],
   "source": [
    "import pandas as pd"
   ]
  },
  {
   "cell_type": "code",
   "execution_count": 24,
   "id": "398741b8",
   "metadata": {},
   "outputs": [
    {
     "data": {
      "text/html": [
       "<div>\n",
       "<style scoped>\n",
       "    .dataframe tbody tr th:only-of-type {\n",
       "        vertical-align: middle;\n",
       "    }\n",
       "\n",
       "    .dataframe tbody tr th {\n",
       "        vertical-align: top;\n",
       "    }\n",
       "\n",
       "    .dataframe thead th {\n",
       "        text-align: right;\n",
       "    }\n",
       "</style>\n",
       "<table border=\"1\" class=\"dataframe\">\n",
       "  <thead>\n",
       "    <tr style=\"text-align: right;\">\n",
       "      <th></th>\n",
       "      <th>Laptops</th>\n",
       "      <th>Prices</th>\n",
       "      <th>URLs</th>\n",
       "    </tr>\n",
       "  </thead>\n",
       "  <tbody>\n",
       "    <tr>\n",
       "      <th>0</th>\n",
       "      <td>Hp Laptop 15.6” - Intel Celeron Core 2 Duo - 4...</td>\n",
       "      <td>GH₵ 1,622.40</td>\n",
       "      <td>https://www.jumia.com.gh/hp-laptop-15.6-intel-...</td>\n",
       "    </tr>\n",
       "    <tr>\n",
       "      <th>1</th>\n",
       "      <td>Lenovo V14-IGL -14.0″ - Intel N4020 - 4GB DDR4...</td>\n",
       "      <td>GH₵ 2,489.00</td>\n",
       "      <td>https://www.jumia.com.gh/v14-igl-14.0-display-...</td>\n",
       "    </tr>\n",
       "    <tr>\n",
       "      <th>2</th>\n",
       "      <td>Hp Laptop - Intel Celeron Core 2 Duo - 4G RAM ...</td>\n",
       "      <td>GH₵ 1,656.00</td>\n",
       "      <td>https://www.jumia.com.gh/hp-laptop-intel-celer...</td>\n",
       "    </tr>\n",
       "    <tr>\n",
       "      <th>3</th>\n",
       "      <td>Lenovo IdeaPad 1 11IGL05 11.6\" - 4GB RAM - 128...</td>\n",
       "      <td>GH₵ 1,889.00</td>\n",
       "      <td>https://www.jumia.com.gh/ideapad-1-11igl05-11....</td>\n",
       "    </tr>\n",
       "    <tr>\n",
       "      <th>4</th>\n",
       "      <td>Apple 2020 MacBook Pro - 512GB SSD 8GB RAM -13...</td>\n",
       "      <td>GH₵ 8,900.00</td>\n",
       "      <td>https://www.jumia.com.gh/apple-2020-macbook-pr...</td>\n",
       "    </tr>\n",
       "  </tbody>\n",
       "</table>\n",
       "</div>"
      ],
      "text/plain": [
       "                                             Laptops        Prices  \\\n",
       "0  Hp Laptop 15.6” - Intel Celeron Core 2 Duo - 4...  GH₵ 1,622.40   \n",
       "1  Lenovo V14-IGL -14.0″ - Intel N4020 - 4GB DDR4...  GH₵ 2,489.00   \n",
       "2  Hp Laptop - Intel Celeron Core 2 Duo - 4G RAM ...  GH₵ 1,656.00   \n",
       "3  Lenovo IdeaPad 1 11IGL05 11.6\" - 4GB RAM - 128...  GH₵ 1,889.00   \n",
       "4  Apple 2020 MacBook Pro - 512GB SSD 8GB RAM -13...  GH₵ 8,900.00   \n",
       "\n",
       "                                                URLs  \n",
       "0  https://www.jumia.com.gh/hp-laptop-15.6-intel-...  \n",
       "1  https://www.jumia.com.gh/v14-igl-14.0-display-...  \n",
       "2  https://www.jumia.com.gh/hp-laptop-intel-celer...  \n",
       "3  https://www.jumia.com.gh/ideapad-1-11igl05-11....  \n",
       "4  https://www.jumia.com.gh/apple-2020-macbook-pr...  "
      ]
     },
     "execution_count": 24,
     "metadata": {},
     "output_type": "execute_result"
    }
   ],
   "source": [
    "columns = ['Laptops', 'Prices', 'URLs']\n",
    "df = pd.DataFrame(data=names_and_prices, columns=columns)\n",
    "df.head()"
   ]
  },
  {
   "cell_type": "code",
   "execution_count": 25,
   "id": "2ae1a7c5",
   "metadata": {},
   "outputs": [],
   "source": [
    "df.to_csv('jumia-laptops-and-prices.csv', index=False)"
   ]
  },
  {
   "cell_type": "code",
   "execution_count": null,
   "id": "8daf31ff",
   "metadata": {},
   "outputs": [],
   "source": []
  },
  {
   "cell_type": "code",
   "execution_count": null,
   "id": "9eec7bef",
   "metadata": {},
   "outputs": [],
   "source": []
  }
 ],
 "metadata": {
  "kernelspec": {
   "display_name": "Python 3 (ipykernel)",
   "language": "python",
   "name": "python3"
  },
  "language_info": {
   "codemirror_mode": {
    "name": "ipython",
    "version": 3
   },
   "file_extension": ".py",
   "mimetype": "text/x-python",
   "name": "python",
   "nbconvert_exporter": "python",
   "pygments_lexer": "ipython3",
   "version": "3.9.7"
  }
 },
 "nbformat": 4,
 "nbformat_minor": 5
}
