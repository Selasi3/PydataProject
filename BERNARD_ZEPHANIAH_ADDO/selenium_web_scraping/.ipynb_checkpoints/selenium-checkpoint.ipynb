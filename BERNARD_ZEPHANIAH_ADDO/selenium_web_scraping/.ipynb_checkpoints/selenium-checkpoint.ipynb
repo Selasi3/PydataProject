{
 "cells": [
  {
   "cell_type": "code",
   "execution_count": 1,
   "id": "9eaf3fa8",
   "metadata": {},
   "outputs": [],
   "source": [
    "# Using selenium to fetch Job titles\n",
    "from selenium import webdriver\n",
    "url = \"https://www.indeed.com/jobs?q=Data%20Science&rbl=Remote&jlid=aaa2b906602aa8f5&vjk=f0520a69da741e82\"\n",
    "driver = webdriver.Chrome()"
   ]
  },
  {
   "cell_type": "code",
   "execution_count": 2,
   "id": "52963972",
   "metadata": {},
   "outputs": [],
   "source": [
    "#driver.implicitly.wait(10)\n",
    "driver.get(url) # launches a browser and get url"
   ]
  },
  {
   "cell_type": "code",
   "execution_count": 3,
   "id": "85197f23",
   "metadata": {},
   "outputs": [
    {
     "name": "stderr",
     "output_type": "stream",
     "text": [
      "C:\\Users\\DELL\\AppData\\Local\\Temp/ipykernel_14188/4211472642.py:3: DeprecationWarning: find_elements_by_* commands are deprecated. Please use find_elements() instead\n",
      "  job_titles = [job.text for job in driver.find_elements_by_class_name('jobTitle')]\n"
     ]
    },
    {
     "data": {
      "text/plain": [
       "['new\\nMachine Learning Data Associate',\n",
       " 'Analyst, Data Science',\n",
       " 'Data Science Engineer',\n",
       " 'Jr Data Scientist',\n",
       " 'MACHINE LEARNING DATA SCIENTIST - PYTHON AND R',\n",
       " 'new\\nData Scientist, Machine Learning - Product Analytics',\n",
       " 'Analyst I/Analyst II, Data Science Underwriting Modeler',\n",
       " 'new\\nJunior Data Scientist - 100% Remote',\n",
       " 'Data Science Writer',\n",
       " 'Data Scientist (Remote)',\n",
       " 'Data Scientist',\n",
       " 'Jr. Data Analyst',\n",
       " 'Associate Data Science Engineer',\n",
       " 'Analyst I/Analyst II, Data Science (remote)',\n",
       " 'Data Scientist']"
      ]
     },
     "execution_count": 3,
     "metadata": {},
     "output_type": "execute_result"
    }
   ],
   "source": [
    "# Set an implicit wait\n",
    "\n",
    "job_titles = [job.text for job in driver.find_elements_by_class_name('jobTitle')]\n",
    "job_titles\n",
    "\n",
    "#input('Press ENTER to close the automated browser')\n",
    "#driver.quit()"
   ]
  },
  {
   "cell_type": "code",
   "execution_count": 4,
   "id": "3d8302bf",
   "metadata": {},
   "outputs": [
    {
     "name": "stderr",
     "output_type": "stream",
     "text": [
      "C:\\Users\\DELL\\AppData\\Local\\Temp/ipykernel_14188/1259012314.py:1: DeprecationWarning: find_elements_by_* commands are deprecated. Please use find_elements() instead\n",
      "  job_titles = [job.text for job in driver.find_elements_by_xpath('//h2')]\n"
     ]
    },
    {
     "data": {
      "text/plain": [
       "['new\\nMachine Learning Data Associate',\n",
       " 'Analyst, Data Science',\n",
       " 'Data Science Engineer',\n",
       " 'Jr Data Scientist',\n",
       " 'MACHINE LEARNING DATA SCIENTIST - PYTHON AND R',\n",
       " 'new\\nData Scientist, Machine Learning - Product Analytics',\n",
       " 'Analyst I/Analyst II, Data Science Underwriting Modeler',\n",
       " 'new\\nJunior Data Scientist - 100% Remote',\n",
       " 'Job Post Details',\n",
       " 'Data Science Writer',\n",
       " 'Data Scientist (Remote)',\n",
       " 'Data Scientist',\n",
       " 'Jr. Data Analyst',\n",
       " 'Associate Data Science Engineer',\n",
       " 'Analyst I/Analyst II, Data Science (remote)',\n",
       " 'Data Scientist']"
      ]
     },
     "execution_count": 4,
     "metadata": {},
     "output_type": "execute_result"
    }
   ],
   "source": [
    "job_titles = [job.text for job in driver.find_elements_by_xpath('//h2')]\n",
    "job_titles"
   ]
  },
  {
   "cell_type": "code",
   "execution_count": 5,
   "id": "581c2d0b",
   "metadata": {},
   "outputs": [
    {
     "name": "stderr",
     "output_type": "stream",
     "text": [
      "C:\\Users\\DELL\\AppData\\Local\\Temp/ipykernel_14188/783261508.py:1: DeprecationWarning: find_elements_by_* commands are deprecated. Please use find_elements() instead\n",
      "  comp_name = [company.text for company in driver.find_elements_by_xpath('//a[@data-tn-element = \"companyName\"]')]\n"
     ]
    },
    {
     "data": {
      "text/plain": [
       "['Amazon.com Services LLC',\n",
       " 'W2O Group',\n",
       " 'Facebook App',\n",
       " 'Liberty Mutual Insurance',\n",
       " 'Piper Companies',\n",
       " 'Yelp',\n",
       " 'Avenue Code',\n",
       " 'OEConnection',\n",
       " 'Liberty Mutual Insurance',\n",
       " 'Coinbase']"
      ]
     },
     "execution_count": 5,
     "metadata": {},
     "output_type": "execute_result"
    }
   ],
   "source": [
    "comp_name = [company.text for company in driver.find_elements_by_xpath('//a[@data-tn-element = \"companyName\"]')]\n",
    "comp_name"
   ]
  },
  {
   "cell_type": "code",
   "execution_count": null,
   "id": "a58d5782",
   "metadata": {},
   "outputs": [],
   "source": []
  }
 ],
 "metadata": {
  "kernelspec": {
   "display_name": "Python 3 (ipykernel)",
   "language": "python",
   "name": "python3"
  },
  "language_info": {
   "codemirror_mode": {
    "name": "ipython",
    "version": 3
   },
   "file_extension": ".py",
   "mimetype": "text/x-python",
   "name": "python",
   "nbconvert_exporter": "python",
   "pygments_lexer": "ipython3",
   "version": "3.9.7"
  }
 },
 "nbformat": 4,
 "nbformat_minor": 5
}
