{
 "cells": [
  {
   "cell_type": "markdown",
   "id": "8662557f",
   "metadata": {},
   "source": [
    "# Xpath(XML Path Language)\n",
    "Xpath - A query language for selecting nodes from an XML document \n",
    "XML(Extensible Markup Language) - Unlike HTML they dont have a specific names for tags as compared to HTML which has names for its tags - head,body,etc."
   ]
  },
  {
   "cell_type": "code",
   "execution_count": null,
   "id": "df76fc3e",
   "metadata": {},
   "outputs": [],
   "source": []
  }
 ],
 "metadata": {
  "kernelspec": {
   "display_name": "Python 3 (ipykernel)",
   "language": "python",
   "name": "python3"
  },
  "language_info": {
   "codemirror_mode": {
    "name": "ipython",
    "version": 3
   },
   "file_extension": ".py",
   "mimetype": "text/x-python",
   "name": "python",
   "nbconvert_exporter": "python",
   "pygments_lexer": "ipython3",
   "version": "3.9.7"
  }
 },
 "nbformat": 4,
 "nbformat_minor": 5
}
