{
 "cells": [
  {
   "cell_type": "code",
   "execution_count": 17,
   "id": "e23c623b",
   "metadata": {},
   "outputs": [],
   "source": [
    "# Applying selenium and xpath to get data from a website.\n",
    "#The data here will be mainly product names, product prices as well as links to the products.\n",
    "from selenium import webdriver\n",
    "url = 'https://www.jumia.com.gh/computing/'\n",
    "driver = webdriver.Chrome()\n",
    "#driver.implicitly.wait(10)\n",
    "driver.get (url)"
   ]
  },
  {
   "cell_type": "code",
   "execution_count": 19,
   "id": "a6615f02",
   "metadata": {},
   "outputs": [
    {
     "name": "stderr",
     "output_type": "stream",
     "text": [
      "C:\\Users\\DELL\\AppData\\Local\\Temp/ipykernel_6496/436833569.py:1: DeprecationWarning: find_elements_by_* commands are deprecated. Please use find_elements() instead\n",
      "  product_names = [name.text for name in driver.find_elements_by_xpath('//*[@id=\"jm\"]/main/div[2]/div[3]/section/div[1]/article[*]/a/div[2]/h3')]\n"
     ]
    },
    {
     "data": {
      "text/plain": [
       "['',\n",
       " '',\n",
       " '',\n",
       " '',\n",
       " '',\n",
       " '',\n",
       " '',\n",
       " '',\n",
       " '',\n",
       " '',\n",
       " '',\n",
       " '',\n",
       " '',\n",
       " '',\n",
       " '',\n",
       " '',\n",
       " '',\n",
       " '',\n",
       " '',\n",
       " '',\n",
       " '',\n",
       " '',\n",
       " '',\n",
       " '',\n",
       " '',\n",
       " '',\n",
       " '',\n",
       " '',\n",
       " '',\n",
       " '',\n",
       " '',\n",
       " '',\n",
       " '',\n",
       " '',\n",
       " '',\n",
       " '',\n",
       " '',\n",
       " '',\n",
       " '',\n",
       " '',\n",
       " '',\n",
       " '',\n",
       " '',\n",
       " '',\n",
       " '',\n",
       " '',\n",
       " '',\n",
       " '']"
      ]
     },
     "execution_count": 19,
     "metadata": {},
     "output_type": "execute_result"
    }
   ],
   "source": [
    "product_names = [name.text for name in driver.find_elements_by_xpath('//*[@id=\"jm\"]/main/div[2]/div[3]/section/div[1]/article[*]/a/div[2]/h3')]\n",
    "product_names"
   ]
  },
  {
   "cell_type": "code",
   "execution_count": null,
   "id": "ae8d8607",
   "metadata": {},
   "outputs": [],
   "source": []
  }
 ],
 "metadata": {
  "kernelspec": {
   "display_name": "Python 3 (ipykernel)",
   "language": "python",
   "name": "python3"
  },
  "language_info": {
   "codemirror_mode": {
    "name": "ipython",
    "version": 3
   },
   "file_extension": ".py",
   "mimetype": "text/x-python",
   "name": "python",
   "nbconvert_exporter": "python",
   "pygments_lexer": "ipython3",
   "version": "3.9.7"
  }
 },
 "nbformat": 4,
 "nbformat_minor": 5
}
